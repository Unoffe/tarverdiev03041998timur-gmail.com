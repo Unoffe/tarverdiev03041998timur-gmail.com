{
 "cells": [
  {
   "cell_type": "code",
   "execution_count": 1,
   "metadata": {},
   "outputs": [
    {
     "name": "stderr",
     "output_type": "stream",
     "text": [
      "Using TensorFlow backend.\n"
     ]
    },
    {
     "data": {
      "text/plain": [
       "'2.3.1'"
      ]
     },
     "execution_count": 1,
     "metadata": {},
     "output_type": "execute_result"
    }
   ],
   "source": [
    "import keras\n",
    "keras.__version__"
   ]
  },
  {
   "cell_type": "code",
   "execution_count": 2,
   "metadata": {},
   "outputs": [],
   "source": [
    "from keras.datasets import reuters\n",
    "(train_data, train_labels), (test_data, test_labels) = reuters.load_data(num_words=10000)"
   ]
  },
  {
   "cell_type": "code",
   "execution_count": 3,
   "metadata": {},
   "outputs": [
    {
     "data": {
      "text/plain": [
       "8982"
      ]
     },
     "execution_count": 3,
     "metadata": {},
     "output_type": "execute_result"
    }
   ],
   "source": [
    "len(train_data)"
   ]
  },
  {
   "cell_type": "code",
   "execution_count": 4,
   "metadata": {},
   "outputs": [
    {
     "data": {
      "text/plain": [
       "2246"
      ]
     },
     "execution_count": 4,
     "metadata": {},
     "output_type": "execute_result"
    }
   ],
   "source": [
    "len(test_data)"
   ]
  },
  {
   "cell_type": "code",
   "execution_count": 5,
   "metadata": {},
   "outputs": [
    {
     "data": {
      "text/plain": [
       "[1,\n",
       " 245,\n",
       " 273,\n",
       " 207,\n",
       " 156,\n",
       " 53,\n",
       " 74,\n",
       " 160,\n",
       " 26,\n",
       " 14,\n",
       " 46,\n",
       " 296,\n",
       " 26,\n",
       " 39,\n",
       " 74,\n",
       " 2979,\n",
       " 3554,\n",
       " 14,\n",
       " 46,\n",
       " 4689,\n",
       " 4329,\n",
       " 86,\n",
       " 61,\n",
       " 3499,\n",
       " 4795,\n",
       " 14,\n",
       " 61,\n",
       " 451,\n",
       " 4329,\n",
       " 17,\n",
       " 12]"
      ]
     },
     "execution_count": 5,
     "metadata": {},
     "output_type": "execute_result"
    }
   ],
   "source": [
    "train_data[10]"
   ]
  },
  {
   "cell_type": "code",
   "execution_count": 6,
   "metadata": {},
   "outputs": [],
   "source": [
    "word_index = reuters.get_word_index()\n",
    "reverse_word_index = dict([(value, key) for (key, value) in word_index.items()])\n",
    "decoded_newswire = ' '.join([reverse_word_index.get(i - 3, '?') for i in train_data[0]])"
   ]
  },
  {
   "cell_type": "code",
   "execution_count": 7,
   "metadata": {},
   "outputs": [
    {
     "data": {
      "text/plain": [
       "'? ? ? said as a result of its december acquisition of space co it expects earnings per share in 1987 of 1 15 to 1 30 dlrs per share up from 70 cts in 1986 the company said pretax net should rise to nine to 10 mln dlrs from six mln dlrs in 1986 and rental operation revenues to 19 to 22 mln dlrs from 12 5 mln dlrs it said cash flow per share this year should be 2 50 to three dlrs reuter 3'"
      ]
     },
     "execution_count": 7,
     "metadata": {},
     "output_type": "execute_result"
    }
   ],
   "source": [
    "decoded_newswire"
   ]
  },
  {
   "cell_type": "code",
   "execution_count": 8,
   "metadata": {},
   "outputs": [
    {
     "data": {
      "text/plain": [
       "3"
      ]
     },
     "execution_count": 8,
     "metadata": {},
     "output_type": "execute_result"
    }
   ],
   "source": [
    "train_labels[10]"
   ]
  },
  {
   "cell_type": "code",
   "execution_count": 9,
   "metadata": {},
   "outputs": [],
   "source": [
    "import numpy as np\n",
    "\n",
    "def vectorize_sequences(sequences, dimension=10000):\n",
    "    results = np.zeros((len(sequences), dimension))\n",
    "    for i, sequence in enumerate(sequences):\n",
    "        results[i, sequence] = 1.\n",
    "    return results\n",
    "\n",
    "x_train = vectorize_sequences(train_data)\n",
    "x_test = vectorize_sequences(test_data)"
   ]
  },
  {
   "cell_type": "code",
   "execution_count": 10,
   "metadata": {},
   "outputs": [],
   "source": [
    "from keras.utils.np_utils import to_categorical\n",
    "\n",
    "one_hot_train_labels = to_categorical(train_labels)\n",
    "one_hot_test_labels = to_categorical(test_labels)"
   ]
  },
  {
   "cell_type": "code",
   "execution_count": 11,
   "metadata": {},
   "outputs": [],
   "source": [
    "from keras import models\n",
    "from keras import layers\n",
    "\n",
    "model = models.Sequential()\n",
    "model.add(layers.Dense(64, activation='relu', input_shape=(10000,)))\n",
    "model.add(layers.Dense(64, activation='relu'))\n",
    "model.add(layers.Dense(46, activation='softmax'))"
   ]
  },
  {
   "cell_type": "code",
   "execution_count": 12,
   "metadata": {},
   "outputs": [],
   "source": [
    "model.compile(optimizer='rmsprop',\n",
    "              loss='categorical_crossentropy',\n",
    "              metrics=['accuracy'])"
   ]
  },
  {
   "cell_type": "code",
   "execution_count": 13,
   "metadata": {},
   "outputs": [],
   "source": [
    "x_val = x_train[:1000]\n",
    "partial_x_train = x_train[1000:]\n",
    "\n",
    "y_val = one_hot_train_labels[:1000]\n",
    "partial_y_train = one_hot_train_labels[1000:]"
   ]
  },
  {
   "cell_type": "code",
   "execution_count": 14,
   "metadata": {},
   "outputs": [
    {
     "name": "stdout",
     "output_type": "stream",
     "text": [
      "Train on 7982 samples, validate on 1000 samples\n",
      "Epoch 1/20\n",
      "7982/7982 [==============================] - 1s 128us/step - loss: 2.6986 - accuracy: 0.5020 - val_loss: 1.8437 - val_accuracy: 0.6330\n",
      "Epoch 2/20\n",
      "7982/7982 [==============================] - 1s 78us/step - loss: 1.5009 - accuracy: 0.6972 - val_loss: 1.3458 - val_accuracy: 0.7080\n",
      "Epoch 3/20\n",
      "7982/7982 [==============================] - 1s 78us/step - loss: 1.0919 - accuracy: 0.7702 - val_loss: 1.1469 - val_accuracy: 0.7550\n",
      "Epoch 4/20\n",
      "7982/7982 [==============================] - 1s 78us/step - loss: 0.8577 - accuracy: 0.8217 - val_loss: 1.0439 - val_accuracy: 0.7730\n",
      "Epoch 5/20\n",
      "7982/7982 [==============================] - 1s 78us/step - loss: 0.6842 - accuracy: 0.8603 - val_loss: 0.9754 - val_accuracy: 0.7910\n",
      "Epoch 6/20\n",
      "7982/7982 [==============================] - 1s 78us/step - loss: 0.5507 - accuracy: 0.8900 - val_loss: 0.9374 - val_accuracy: 0.7930\n",
      "Epoch 7/20\n",
      "7982/7982 [==============================] - 1s 78us/step - loss: 0.4452 - accuracy: 0.9070 - val_loss: 0.8881 - val_accuracy: 0.8080\n",
      "Epoch 8/20\n",
      "7982/7982 [==============================] - 1s 78us/step - loss: 0.3618 - accuracy: 0.9251 - val_loss: 0.8758 - val_accuracy: 0.8140\n",
      "Epoch 9/20\n",
      "7982/7982 [==============================] - 1s 80us/step - loss: 0.2986 - accuracy: 0.9367 - val_loss: 0.9180 - val_accuracy: 0.8010\n",
      "Epoch 10/20\n",
      "7982/7982 [==============================] - 1s 80us/step - loss: 0.2522 - accuracy: 0.9417 - val_loss: 0.8718 - val_accuracy: 0.8150\n",
      "Epoch 11/20\n",
      "7982/7982 [==============================] - 1s 78us/step - loss: 0.2205 - accuracy: 0.9471 - val_loss: 0.9289 - val_accuracy: 0.8060\n",
      "Epoch 12/20\n",
      "7982/7982 [==============================] - 1s 81us/step - loss: 0.1929 - accuracy: 0.9513 - val_loss: 0.9093 - val_accuracy: 0.8120\n",
      "Epoch 13/20\n",
      "7982/7982 [==============================] - 1s 78us/step - loss: 0.1702 - accuracy: 0.9533 - val_loss: 0.9428 - val_accuracy: 0.8060\n",
      "Epoch 14/20\n",
      "7982/7982 [==============================] - 1s 79us/step - loss: 0.1545 - accuracy: 0.9546 - val_loss: 0.9689 - val_accuracy: 0.8100\n",
      "Epoch 15/20\n",
      "7982/7982 [==============================] - 1s 83us/step - loss: 0.1462 - accuracy: 0.9540 - val_loss: 0.9845 - val_accuracy: 0.8090\n",
      "Epoch 16/20\n",
      "7982/7982 [==============================] - 1s 80us/step - loss: 0.1319 - accuracy: 0.9580 - val_loss: 1.0023 - val_accuracy: 0.8030\n",
      "Epoch 17/20\n",
      "7982/7982 [==============================] - 1s 78us/step - loss: 0.1275 - accuracy: 0.9569 - val_loss: 1.0497 - val_accuracy: 0.8030\n",
      "Epoch 18/20\n",
      "7982/7982 [==============================] - 1s 79us/step - loss: 0.1197 - accuracy: 0.9562 - val_loss: 1.0701 - val_accuracy: 0.7950\n",
      "Epoch 19/20\n",
      "7982/7982 [==============================] - 1s 79us/step - loss: 0.1166 - accuracy: 0.9572 - val_loss: 1.1005 - val_accuracy: 0.7880\n",
      "Epoch 20/20\n",
      "7982/7982 [==============================] - 1s 79us/step - loss: 0.1143 - accuracy: 0.9580 - val_loss: 1.1034 - val_accuracy: 0.7960\n"
     ]
    }
   ],
   "source": [
    "history = model.fit(partial_x_train,\n",
    "                    partial_y_train,\n",
    "                    epochs=20,\n",
    "                    batch_size=512,\n",
    "                    validation_data=(x_val, y_val))"
   ]
  },
  {
   "cell_type": "code",
   "execution_count": 15,
   "metadata": {},
   "outputs": [
    {
     "data": {
      "image/png": "[encoded data removed]",
      "text/plain": [
       "<Figure size 432x288 with 1 Axes>"
      ]
     },
     "metadata": {
      "needs_background": "light"
     },
     "output_type": "display_data"
    }
   ],
   "source": [
    "import matplotlib.pyplot as plt\n",
    "\n",
    "loss = history.history['loss']\n",
    "val_loss = history.history['val_loss']\n",
    "\n",
    "epochs = range(1, len(loss) + 1)\n",
    "\n",
    "plt.plot(epochs, loss, 'bo', label='Training loss')\n",
    "plt.plot(epochs, val_loss, 'b', label='Validation loss')\n",
    "plt.title('Training and validation loss')\n",
    "plt.xlabel('Epochs')\n",
    "plt.ylabel('Loss')\n",
    "plt.legend()\n",
    "\n",
    "plt.show()"
   ]
  },
  {
   "cell_type": "code",
   "execution_count": 16,
   "metadata": {},
   "outputs": [
    {
     "data": {
      "image/png": "[encoded data removed]",
      "text/plain": [
       "<Figure size 432x288 with 1 Axes>"
      ]
     },
     "metadata": {
      "needs_background": "light"
     },
     "output_type": "display_data"
    }
   ],
   "source": [
    "plt.clf()\n",
    "\n",
    "acc = history.history['accuracy']\n",
    "val_acc = history.history['val_accuracy']\n",
    "\n",
    "plt.plot(epochs, acc, 'bo', label='Training acc')\n",
    "plt.plot(epochs, val_acc, 'b', label='Validation acc')\n",
    "plt.title('Training and validation accuracy')\n",
    "plt.xlabel('Epochs')\n",
    "plt.ylabel('Loss')\n",
    "plt.legend()\n",
    "\n",
    "plt.show()"
   ]
  },
  {
   "cell_type": "code",
   "execution_count": 17,
   "metadata": {},
   "outputs": [
    {
     "name": "stdout",
     "output_type": "stream",
     "text": [
      "Train on 7982 samples, validate on 1000 samples\n",
      "Epoch 1/8\n",
      "7982/7982 [==============================] - 1s 88us/step - loss: 2.4494 - accuracy: 0.5247 - val_loss: 1.6370 - val_accuracy: 0.6330\n",
      "Epoch 2/8\n",
      "7982/7982 [==============================] - 1s 80us/step - loss: 1.3822 - accuracy: 0.7086 - val_loss: 1.2678 - val_accuracy: 0.7070\n",
      "Epoch 3/8\n",
      "7982/7982 [==============================] - 1s 79us/step - loss: 1.0343 - accuracy: 0.7744 - val_loss: 1.1016 - val_accuracy: 0.7570\n",
      "Epoch 4/8\n",
      "7982/7982 [==============================] - 1s 79us/step - loss: 0.8072 - accuracy: 0.8261 - val_loss: 1.0226 - val_accuracy: 0.7720\n",
      "Epoch 5/8\n",
      "7982/7982 [==============================] - 1s 79us/step - loss: 0.6440 - accuracy: 0.8644 - val_loss: 0.9492 - val_accuracy: 0.8070\n",
      "Epoch 6/8\n",
      "7982/7982 [==============================] - 1s 79us/step - loss: 0.5109 - accuracy: 0.8938 - val_loss: 0.9069 - val_accuracy: 0.8190\n",
      "Epoch 7/8\n",
      "7982/7982 [==============================] - 1s 79us/step - loss: 0.4127 - accuracy: 0.9158 - val_loss: 0.8857 - val_accuracy: 0.8080\n",
      "Epoch 8/8\n",
      "7982/7982 [==============================] - 1s 79us/step - loss: 0.3328 - accuracy: 0.9298 - val_loss: 0.9123 - val_accuracy: 0.8040\n",
      "2246/2246 [==============================] - 0s 128us/step\n"
     ]
    }
   ],
   "source": [
    "model = models.Sequential()\n",
    "model.add(layers.Dense(64, activation='relu', input_shape=(10000,)))\n",
    "model.add(layers.Dense(64, activation='relu'))\n",
    "model.add(layers.Dense(46, activation='softmax'))\n",
    "\n",
    "model.compile(optimizer='rmsprop',\n",
    "              loss='categorical_crossentropy',\n",
    "              metrics=['accuracy'])\n",
    "model.fit(partial_x_train,\n",
    "          partial_y_train,\n",
    "          epochs=8,\n",
    "          batch_size=512,\n",
    "          validation_data=(x_val, y_val))\n",
    "results = model.evaluate(x_test, one_hot_test_labels)"
   ]
  },
  {
   "cell_type": "code",
   "execution_count": 18,
   "metadata": {},
   "outputs": [
    {
     "data": {
      "text/plain": [
       "[0.9932572644200584, 0.7822796106338501]"
      ]
     },
     "execution_count": 18,
     "metadata": {},
     "output_type": "execute_result"
    }
   ],
   "source": [
    "results"
   ]
  },
  {
   "cell_type": "code",
   "execution_count": 19,
   "metadata": {},
   "outputs": [
    {
     "data": {
      "text/plain": [
       "0.18833481745325023"
      ]
     },
     "execution_count": 19,
     "metadata": {},
     "output_type": "execute_result"
    }
   ],
   "source": [
    "import copy\n",
    "\n",
    "test_labels_copy = copy.copy(test_labels)\n",
    "np.random.shuffle(test_labels_copy)\n",
    "float(np.sum(np.array(test_labels) == np.array(test_labels_copy))) / len(test_labels)"
   ]
  },
  {
   "cell_type": "code",
   "execution_count": 20,
   "metadata": {},
   "outputs": [],
   "source": [
    "predictions = model.predict(x_test)"
   ]
  },
  {
   "cell_type": "code",
   "execution_count": 21,
   "metadata": {},
   "outputs": [
    {
     "data": {
      "text/plain": [
       "(46,)"
      ]
     },
     "execution_count": 21,
     "metadata": {},
     "output_type": "execute_result"
    }
   ],
   "source": [
    "predictions[0].shape"
   ]
  },
  {
   "cell_type": "code",
   "execution_count": 22,
   "metadata": {},
   "outputs": [
    {
     "data": {
      "text/plain": [
       "0.99999994"
      ]
     },
     "execution_count": 22,
     "metadata": {},
     "output_type": "execute_result"
    }
   ],
   "source": [
    "np.sum(predictions[0])"
   ]
  },
  {
   "cell_type": "code",
   "execution_count": 23,
   "metadata": {},
   "outputs": [
    {
     "data": {
      "text/plain": [
       "3"
      ]
     },
     "execution_count": 23,
     "metadata": {},
     "output_type": "execute_result"
    }
   ],
   "source": [
    "np.argmax(predictions[0])"
   ]
  },
  {
   "cell_type": "code",
   "execution_count": 24,
   "metadata": {},
   "outputs": [],
   "source": [
    "y_train = np.array(train_labels)\n",
    "y_test = np.array(test_labels)"
   ]
  },
  {
   "cell_type": "code",
   "execution_count": 25,
   "metadata": {},
   "outputs": [],
   "source": [
    "model.compile(optimizer='rmsprop', loss='sparse_categorical_crossentropy', metrics=['acc'])"
   ]
  },
  {
   "cell_type": "code",
   "execution_count": 26,
   "metadata": {},
   "outputs": [
    {
     "name": "stdout",
     "output_type": "stream",
     "text": [
      "Train on 7982 samples, validate on 1000 samples\n",
      "Epoch 1/20\n",
      "7982/7982 [==============================] - 1s 109us/step - loss: 2.9623 - accuracy: 0.2781 - val_loss: 2.1915 - val_accuracy: 0.5410\n",
      "Epoch 2/20\n",
      "7982/7982 [==============================] - 1s 101us/step - loss: 1.6975 - accuracy: 0.5971 - val_loss: 1.5271 - val_accuracy: 0.6440\n",
      "Epoch 3/20\n",
      "7982/7982 [==============================] - 1s 101us/step - loss: 1.2888 - accuracy: 0.6897 - val_loss: 1.3744 - val_accuracy: 0.6900\n",
      "Epoch 4/20\n",
      "7982/7982 [==============================] - 1s 102us/step - loss: 1.1183 - accuracy: 0.7296 - val_loss: 1.2993 - val_accuracy: 0.7050\n",
      "Epoch 5/20\n",
      "7982/7982 [==============================] - 1s 99us/step - loss: 1.0010 - accuracy: 0.7486 - val_loss: 1.2837 - val_accuracy: 0.7150\n",
      "Epoch 6/20\n",
      "7982/7982 [==============================] - 1s 99us/step - loss: 0.9114 - accuracy: 0.7681 - val_loss: 1.2768 - val_accuracy: 0.7130\n",
      "Epoch 7/20\n",
      "7982/7982 [==============================] - 1s 101us/step - loss: 0.8355 - accuracy: 0.7863 - val_loss: 1.2843 - val_accuracy: 0.7210\n",
      "Epoch 8/20\n",
      "7982/7982 [==============================] - 1s 99us/step - loss: 0.7719 - accuracy: 0.7974 - val_loss: 1.2995 - val_accuracy: 0.7250\n",
      "Epoch 9/20\n",
      "7982/7982 [==============================] - 1s 97us/step - loss: 0.7184 - accuracy: 0.8063 - val_loss: 1.3100 - val_accuracy: 0.7310\n",
      "Epoch 10/20\n",
      "7982/7982 [==============================] - 1s 100us/step - loss: 0.6709 - accuracy: 0.8141 - val_loss: 1.3995 - val_accuracy: 0.7130\n",
      "Epoch 11/20\n",
      "7982/7982 [==============================] - 1s 98us/step - loss: 0.6313 - accuracy: 0.8230 - val_loss: 1.3944 - val_accuracy: 0.7220\n",
      "Epoch 12/20\n",
      "7982/7982 [==============================] - 1s 99us/step - loss: 0.5957 - accuracy: 0.8330 - val_loss: 1.4295 - val_accuracy: 0.7220\n",
      "Epoch 13/20\n",
      "7982/7982 [==============================] - 1s 98us/step - loss: 0.5653 - accuracy: 0.8420 - val_loss: 1.5277 - val_accuracy: 0.7160\n",
      "Epoch 14/20\n",
      "7982/7982 [==============================] - 1s 98us/step - loss: 0.5359 - accuracy: 0.8470 - val_loss: 1.5873 - val_accuracy: 0.7150\n",
      "Epoch 15/20\n",
      "7982/7982 [==============================] - 1s 98us/step - loss: 0.5121 - accuracy: 0.8515 - val_loss: 1.6677 - val_accuracy: 0.7140\n",
      "Epoch 16/20\n",
      "7982/7982 [==============================] - 1s 98us/step - loss: 0.4892 - accuracy: 0.8553 - val_loss: 1.6928 - val_accuracy: 0.7180\n",
      "Epoch 17/20\n",
      "7982/7982 [==============================] - 1s 98us/step - loss: 0.4721 - accuracy: 0.8604 - val_loss: 1.7375 - val_accuracy: 0.7170\n",
      "Epoch 18/20\n",
      "7982/7982 [==============================] - 1s 99us/step - loss: 0.4518 - accuracy: 0.8646 - val_loss: 1.8024 - val_accuracy: 0.7210\n",
      "Epoch 19/20\n",
      "7982/7982 [==============================] - 1s 98us/step - loss: 0.4380 - accuracy: 0.8666 - val_loss: 1.8951 - val_accuracy: 0.7060\n",
      "Epoch 20/20\n",
      "7982/7982 [==============================] - 1s 98us/step - loss: 0.4198 - accuracy: 0.8705 - val_loss: 1.9365 - val_accuracy: 0.7160\n"
     ]
    },
    {
     "data": {
      "text/plain": [
       "<keras.callbacks.callbacks.History at 0x1b93ff64888>"
      ]
     },
     "execution_count": 26,
     "metadata": {},
     "output_type": "execute_result"
    }
   ],
   "source": [
    "model = models.Sequential()\n",
    "model.add(layers.Dense(64, activation='relu', input_shape=(10000,)))\n",
    "model.add(layers.Dense(4, activation='relu'))\n",
    "model.add(layers.Dense(46, activation='softmax'))\n",
    "\n",
    "model.compile(optimizer='rmsprop',\n",
    "              loss='categorical_crossentropy',\n",
    "              metrics=['accuracy'])\n",
    "model.fit(partial_x_train,\n",
    "          partial_y_train,\n",
    "          epochs=20,\n",
    "          batch_size=128,\n",
    "          validation_data=(x_val, y_val))"
   ]
  },
  {
   "cell_type": "code",
   "execution_count": null,
   "metadata": {},
   "outputs": [],
   "source": []
  }
 ],
 "metadata": {
  "kernelspec": {
   "display_name": "Python 3",
   "language": "python",
   "name": "python3"
  },
  "language_info": {
   "codemirror_mode": {
    "name": "ipython",
    "version": 3
   },
   "file_extension": ".py",
   "mimetype": "text/x-python",
   "name": "python",
   "nbconvert_exporter": "python",
   "pygments_lexer": "ipython3",
   "version": "3.7.7"
  }
 },
 "nbformat": 4,
 "nbformat_minor": 4
}
